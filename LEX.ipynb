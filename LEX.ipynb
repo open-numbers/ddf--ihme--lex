{
 "cells": [
  {
   "cell_type": "code",
   "execution_count": 2,
   "metadata": {
    "collapsed": false
   },
   "outputs": [
    {
     "name": "stderr",
     "output_type": "stream",
     "text": [
      "/usr/local/lib/python3.5/site-packages/matplotlib/__init__.py:872: UserWarning: axes.color_cycle is deprecated and replaced with axes.prop_cycle; please use the latter.\n",
      "  warnings.warn(self.msg_depr % (key, alt_key))\n"
     ]
    }
   ],
   "source": [
    "import pandas as pd\n",
    "import numpy as np"
   ]
  },
  {
   "cell_type": "code",
   "execution_count": 3,
   "metadata": {
    "collapsed": true
   },
   "outputs": [],
   "source": [
    "import re\n",
    "import os"
   ]
  },
  {
   "cell_type": "code",
   "execution_count": 4,
   "metadata": {
    "collapsed": false
   },
   "outputs": [],
   "source": [
    "codebook = pd.read_csv(\n",
    "    './source/IHME_GBD_2013_LIFE_EXPECTANCY_1970_2013_Y2014M12D17/IHME_GBD_2013_LIFE_EXPECTANCY_1970_2013_CB_Y2014M12D17.CSV',\n",
    "    skiprows=1,\n",
    "    header=None,\n",
    ")\n"
   ]
  },
  {
   "cell_type": "code",
   "execution_count": 5,
   "metadata": {
    "collapsed": true
   },
   "outputs": [],
   "source": [
    "data = pd.read_csv(\n",
    "    './source/IHME_GBD_2013_LIFE_EXPECTANCY_1970_2013_Y2014M12D17/IHME_GBD_2013_LIFE_EXPECTANCY_1970_2013_Y2014M12D17.CSV',\n",
    ")\n"
   ]
  },
  {
   "cell_type": "code",
   "execution_count": 6,
   "metadata": {
    "collapsed": false
   },
   "outputs": [],
   "source": [
    "codebook = codebook.iloc[:, 1:]"
   ]
  },
  {
   "cell_type": "code",
   "execution_count": 7,
   "metadata": {
    "collapsed": false
   },
   "outputs": [
    {
     "data": {
      "text/html": [
       "<div>\n",
       "<table border=\"1\" class=\"dataframe\">\n",
       "  <thead>\n",
       "    <tr style=\"text-align: right;\">\n",
       "      <th></th>\n",
       "      <th>location_id</th>\n",
       "      <th>location_code</th>\n",
       "      <th>location_name</th>\n",
       "      <th>year</th>\n",
       "      <th>age_group_id</th>\n",
       "      <th>age_group_name</th>\n",
       "      <th>sex_id</th>\n",
       "      <th>sex_name</th>\n",
       "      <th>metric</th>\n",
       "      <th>unit</th>\n",
       "      <th>mean</th>\n",
       "      <th>upper</th>\n",
       "      <th>lower</th>\n",
       "    </tr>\n",
       "  </thead>\n",
       "  <tbody>\n",
       "    <tr>\n",
       "      <th>0</th>\n",
       "      <td>1</td>\n",
       "      <td>G</td>\n",
       "      <td>Global</td>\n",
       "      <td>1970</td>\n",
       "      <td>28</td>\n",
       "      <td>&lt;1 year</td>\n",
       "      <td>1</td>\n",
       "      <td>Males</td>\n",
       "      <td>Life expectancy</td>\n",
       "      <td>Years</td>\n",
       "      <td>56.7</td>\n",
       "      <td>57.6</td>\n",
       "      <td>55.7</td>\n",
       "    </tr>\n",
       "    <tr>\n",
       "      <th>1</th>\n",
       "      <td>1</td>\n",
       "      <td>G</td>\n",
       "      <td>Global</td>\n",
       "      <td>1970</td>\n",
       "      <td>28</td>\n",
       "      <td>&lt;1 year</td>\n",
       "      <td>2</td>\n",
       "      <td>Females</td>\n",
       "      <td>Life expectancy</td>\n",
       "      <td>Years</td>\n",
       "      <td>60.1</td>\n",
       "      <td>61.1</td>\n",
       "      <td>59.0</td>\n",
       "    </tr>\n",
       "    <tr>\n",
       "      <th>2</th>\n",
       "      <td>1</td>\n",
       "      <td>G</td>\n",
       "      <td>Global</td>\n",
       "      <td>1970</td>\n",
       "      <td>28</td>\n",
       "      <td>&lt;1 year</td>\n",
       "      <td>3</td>\n",
       "      <td>Both sexes</td>\n",
       "      <td>Life expectancy</td>\n",
       "      <td>Years</td>\n",
       "      <td>58.4</td>\n",
       "      <td>59.0</td>\n",
       "      <td>57.7</td>\n",
       "    </tr>\n",
       "    <tr>\n",
       "      <th>3</th>\n",
       "      <td>1</td>\n",
       "      <td>G</td>\n",
       "      <td>Global</td>\n",
       "      <td>1970</td>\n",
       "      <td>5</td>\n",
       "      <td>1 to 4</td>\n",
       "      <td>1</td>\n",
       "      <td>Males</td>\n",
       "      <td>Life expectancy</td>\n",
       "      <td>Years</td>\n",
       "      <td>61.8</td>\n",
       "      <td>62.8</td>\n",
       "      <td>60.7</td>\n",
       "    </tr>\n",
       "    <tr>\n",
       "      <th>4</th>\n",
       "      <td>1</td>\n",
       "      <td>G</td>\n",
       "      <td>Global</td>\n",
       "      <td>1970</td>\n",
       "      <td>5</td>\n",
       "      <td>1 to 4</td>\n",
       "      <td>2</td>\n",
       "      <td>Females</td>\n",
       "      <td>Life expectancy</td>\n",
       "      <td>Years</td>\n",
       "      <td>65.0</td>\n",
       "      <td>65.9</td>\n",
       "      <td>64.0</td>\n",
       "    </tr>\n",
       "  </tbody>\n",
       "</table>\n",
       "</div>"
      ],
      "text/plain": [
       "   location_id location_code location_name  year  age_group_id age_group_name  \\\n",
       "0            1             G        Global  1970            28        <1 year   \n",
       "1            1             G        Global  1970            28        <1 year   \n",
       "2            1             G        Global  1970            28        <1 year   \n",
       "3            1             G        Global  1970             5         1 to 4   \n",
       "4            1             G        Global  1970             5         1 to 4   \n",
       "\n",
       "   sex_id    sex_name           metric   unit  mean  upper  lower  \n",
       "0       1       Males  Life expectancy  Years  56.7   57.6   55.7  \n",
       "1       2     Females  Life expectancy  Years  60.1   61.1   59.0  \n",
       "2       3  Both sexes  Life expectancy  Years  58.4   59.0   57.7  \n",
       "3       1       Males  Life expectancy  Years  61.8   62.8   60.7  \n",
       "4       2     Females  Life expectancy  Years  65.0   65.9   64.0  "
      ]
     },
     "execution_count": 7,
     "metadata": {},
     "output_type": "execute_result"
    }
   ],
   "source": [
    "data.head()"
   ]
  },
  {
   "cell_type": "code",
   "execution_count": 8,
   "metadata": {
    "collapsed": false
   },
   "outputs": [
    {
     "data": {
      "text/html": [
       "<div>\n",
       "<table border=\"1\" class=\"dataframe\">\n",
       "  <thead>\n",
       "    <tr style=\"text-align: right;\">\n",
       "      <th></th>\n",
       "      <th>1</th>\n",
       "      <th>2</th>\n",
       "      <th>3</th>\n",
       "      <th>4</th>\n",
       "      <th>5</th>\n",
       "      <th>6</th>\n",
       "      <th>7</th>\n",
       "      <th>8</th>\n",
       "      <th>9</th>\n",
       "      <th>10</th>\n",
       "      <th>11</th>\n",
       "      <th>12</th>\n",
       "      <th>13</th>\n",
       "    </tr>\n",
       "  </thead>\n",
       "  <tbody>\n",
       "    <tr>\n",
       "      <th>0</th>\n",
       "      <td>location_id</td>\n",
       "      <td>location_code</td>\n",
       "      <td>location_name</td>\n",
       "      <td>year</td>\n",
       "      <td>age_group_id</td>\n",
       "      <td>age_group_name</td>\n",
       "      <td>sex_id</td>\n",
       "      <td>sex_name</td>\n",
       "      <td>metric</td>\n",
       "      <td>unit</td>\n",
       "      <td>mean</td>\n",
       "      <td>upper</td>\n",
       "      <td>lower</td>\n",
       "    </tr>\n",
       "    <tr>\n",
       "      <th>1</th>\n",
       "      <td>Location ID</td>\n",
       "      <td>Country ISO 3166-1 Alpha-3 Code or GBD Region ...</td>\n",
       "      <td>Country or Region Name</td>\n",
       "      <td>Year</td>\n",
       "      <td>Age Group ID</td>\n",
       "      <td>Age Group Name</td>\n",
       "      <td>Sex ID</td>\n",
       "      <td>Sex Name</td>\n",
       "      <td>Metric</td>\n",
       "      <td>Unit</td>\n",
       "      <td>Mean</td>\n",
       "      <td>95% Uncertainty Interval - Upper Bound</td>\n",
       "      <td>95% Uncertainty Interval - Lower Bound</td>\n",
       "    </tr>\n",
       "    <tr>\n",
       "      <th>2</th>\n",
       "      <td>1</td>\n",
       "      <td>G</td>\n",
       "      <td>Global</td>\n",
       "      <td>1970</td>\n",
       "      <td>28</td>\n",
       "      <td>&lt;1 year</td>\n",
       "      <td>1</td>\n",
       "      <td>Males</td>\n",
       "      <td>Life expectancy</td>\n",
       "      <td>Years</td>\n",
       "      <td>NaN</td>\n",
       "      <td>NaN</td>\n",
       "      <td>NaN</td>\n",
       "    </tr>\n",
       "    <tr>\n",
       "      <th>3</th>\n",
       "      <td>2</td>\n",
       "      <td>D0</td>\n",
       "      <td>Developing</td>\n",
       "      <td>1971</td>\n",
       "      <td>5</td>\n",
       "      <td>1 to 4</td>\n",
       "      <td>2</td>\n",
       "      <td>Females</td>\n",
       "      <td>NaN</td>\n",
       "      <td>NaN</td>\n",
       "      <td>NaN</td>\n",
       "      <td>NaN</td>\n",
       "      <td>NaN</td>\n",
       "    </tr>\n",
       "    <tr>\n",
       "      <th>4</th>\n",
       "      <td>3</td>\n",
       "      <td>D1</td>\n",
       "      <td>Developed</td>\n",
       "      <td>1972</td>\n",
       "      <td>6</td>\n",
       "      <td>5 to 9</td>\n",
       "      <td>3</td>\n",
       "      <td>Both sexes</td>\n",
       "      <td>NaN</td>\n",
       "      <td>NaN</td>\n",
       "      <td>NaN</td>\n",
       "      <td>NaN</td>\n",
       "      <td>NaN</td>\n",
       "    </tr>\n",
       "  </tbody>\n",
       "</table>\n",
       "</div>"
      ],
      "text/plain": [
       "            1                                                  2   \\\n",
       "0  location_id                                      location_code   \n",
       "1  Location ID  Country ISO 3166-1 Alpha-3 Code or GBD Region ...   \n",
       "2            1                                                  G   \n",
       "3            2                                                 D0   \n",
       "4            3                                                 D1   \n",
       "\n",
       "                       3      4             5               6       7   \\\n",
       "0           location_name   year  age_group_id  age_group_name  sex_id   \n",
       "1  Country or Region Name  Year   Age Group ID  Age Group Name  Sex ID   \n",
       "2                  Global   1970            28         <1 year       1   \n",
       "3              Developing   1971             5          1 to 4       2   \n",
       "4               Developed   1972             6          5 to 9       3   \n",
       "\n",
       "           8                9      10    11  \\\n",
       "0    sex_name           metric   unit  mean   \n",
       "1    Sex Name           Metric   Unit  Mean   \n",
       "2       Males  Life expectancy  Years   NaN   \n",
       "3     Females              NaN    NaN   NaN   \n",
       "4  Both sexes              NaN    NaN   NaN   \n",
       "\n",
       "                                       12  \\\n",
       "0                                   upper   \n",
       "1  95% Uncertainty Interval - Upper Bound   \n",
       "2                                     NaN   \n",
       "3                                     NaN   \n",
       "4                                     NaN   \n",
       "\n",
       "                                       13  \n",
       "0                                   lower  \n",
       "1  95% Uncertainty Interval - Lower Bound  \n",
       "2                                     NaN  \n",
       "3                                     NaN  \n",
       "4                                     NaN  "
      ]
     },
     "execution_count": 8,
     "metadata": {},
     "output_type": "execute_result"
    }
   ],
   "source": [
    "codebook.head()"
   ]
  },
  {
   "cell_type": "code",
   "execution_count": 15,
   "metadata": {
    "collapsed": false
   },
   "outputs": [
    {
     "data": {
      "text/html": [
       "<div>\n",
       "<table border=\"1\" class=\"dataframe\">\n",
       "  <thead>\n",
       "    <tr style=\"text-align: right;\">\n",
       "      <th></th>\n",
       "      <th>0</th>\n",
       "      <th>1</th>\n",
       "    </tr>\n",
       "  </thead>\n",
       "  <tbody>\n",
       "    <tr>\n",
       "      <th>1</th>\n",
       "      <td>location_id</td>\n",
       "      <td>Location ID</td>\n",
       "    </tr>\n",
       "    <tr>\n",
       "      <th>2</th>\n",
       "      <td>location_code</td>\n",
       "      <td>Country ISO 3166-1 Alpha-3 Code or GBD Region ...</td>\n",
       "    </tr>\n",
       "    <tr>\n",
       "      <th>3</th>\n",
       "      <td>location_name</td>\n",
       "      <td>Country or Region Name</td>\n",
       "    </tr>\n",
       "    <tr>\n",
       "      <th>4</th>\n",
       "      <td>year</td>\n",
       "      <td>Year</td>\n",
       "    </tr>\n",
       "    <tr>\n",
       "      <th>5</th>\n",
       "      <td>age_group_id</td>\n",
       "      <td>Age Group ID</td>\n",
       "    </tr>\n",
       "    <tr>\n",
       "      <th>6</th>\n",
       "      <td>age_group_name</td>\n",
       "      <td>Age Group Name</td>\n",
       "    </tr>\n",
       "    <tr>\n",
       "      <th>7</th>\n",
       "      <td>sex_id</td>\n",
       "      <td>Sex ID</td>\n",
       "    </tr>\n",
       "    <tr>\n",
       "      <th>8</th>\n",
       "      <td>sex_name</td>\n",
       "      <td>Sex Name</td>\n",
       "    </tr>\n",
       "    <tr>\n",
       "      <th>9</th>\n",
       "      <td>metric</td>\n",
       "      <td>Metric</td>\n",
       "    </tr>\n",
       "    <tr>\n",
       "      <th>10</th>\n",
       "      <td>unit</td>\n",
       "      <td>Unit</td>\n",
       "    </tr>\n",
       "    <tr>\n",
       "      <th>11</th>\n",
       "      <td>mean</td>\n",
       "      <td>Mean</td>\n",
       "    </tr>\n",
       "    <tr>\n",
       "      <th>12</th>\n",
       "      <td>upper</td>\n",
       "      <td>95% Uncertainty Interval - Upper Bound</td>\n",
       "    </tr>\n",
       "    <tr>\n",
       "      <th>13</th>\n",
       "      <td>lower</td>\n",
       "      <td>95% Uncertainty Interval - Lower Bound</td>\n",
       "    </tr>\n",
       "  </tbody>\n",
       "</table>\n",
       "</div>"
      ],
      "text/plain": [
       "                 0                                                  1\n",
       "1      location_id                                        Location ID\n",
       "2    location_code  Country ISO 3166-1 Alpha-3 Code or GBD Region ...\n",
       "3    location_name                             Country or Region Name\n",
       "4             year                                              Year \n",
       "5     age_group_id                                       Age Group ID\n",
       "6   age_group_name                                     Age Group Name\n",
       "7           sex_id                                             Sex ID\n",
       "8         sex_name                                           Sex Name\n",
       "9           metric                                             Metric\n",
       "10            unit                                               Unit\n",
       "11            mean                                               Mean\n",
       "12           upper             95% Uncertainty Interval - Upper Bound\n",
       "13           lower             95% Uncertainty Interval - Lower Bound"
      ]
     },
     "execution_count": 15,
     "metadata": {},
     "output_type": "execute_result"
    }
   ],
   "source": [
    "codebook.ix[:1].T"
   ]
  },
  {
   "cell_type": "markdown",
   "metadata": {},
   "source": [
    "# Concepts"
   ]
  },
  {
   "cell_type": "code",
   "execution_count": 51,
   "metadata": {
    "collapsed": false
   },
   "outputs": [],
   "source": [
    "dis_concept = codebook.ix[:1].T.ix[:10]\n",
    "dis_concept = dis_concept.drop(9)"
   ]
  },
  {
   "cell_type": "code",
   "execution_count": 52,
   "metadata": {
    "collapsed": false
   },
   "outputs": [],
   "source": [
    "dis_concept.columns = ['concept', 'name']"
   ]
  },
  {
   "cell_type": "code",
   "execution_count": 53,
   "metadata": {
    "collapsed": true
   },
   "outputs": [],
   "source": [
    "dis_concept['type'] = 'string'\n",
    "dis_concept['type'].ix[[1, 5, 7]] = 'entity domain'\n",
    "dis_concept['type'].ix[4] = 'time'"
   ]
  },
  {
   "cell_type": "code",
   "execution_count": 76,
   "metadata": {
    "collapsed": true
   },
   "outputs": [],
   "source": [
    "dis_concept['unit'] = 'years'"
   ]
  },
  {
   "cell_type": "code",
   "execution_count": 77,
   "metadata": {
    "collapsed": false
   },
   "outputs": [
    {
     "data": {
      "text/html": [
       "<div>\n",
       "<table border=\"1\" class=\"dataframe\">\n",
       "  <thead>\n",
       "    <tr style=\"text-align: right;\">\n",
       "      <th></th>\n",
       "      <th>concept</th>\n",
       "      <th>name</th>\n",
       "      <th>type</th>\n",
       "      <th>unit</th>\n",
       "    </tr>\n",
       "  </thead>\n",
       "  <tbody>\n",
       "    <tr>\n",
       "      <th>1</th>\n",
       "      <td>location_id</td>\n",
       "      <td>Location ID</td>\n",
       "      <td>entity domain</td>\n",
       "      <td>years</td>\n",
       "    </tr>\n",
       "    <tr>\n",
       "      <th>2</th>\n",
       "      <td>location_code</td>\n",
       "      <td>Country ISO 3166-1 Alpha-3 Code or GBD Region ...</td>\n",
       "      <td>string</td>\n",
       "      <td>years</td>\n",
       "    </tr>\n",
       "    <tr>\n",
       "      <th>3</th>\n",
       "      <td>location_name</td>\n",
       "      <td>Country or Region Name</td>\n",
       "      <td>string</td>\n",
       "      <td>years</td>\n",
       "    </tr>\n",
       "    <tr>\n",
       "      <th>4</th>\n",
       "      <td>year</td>\n",
       "      <td>Year</td>\n",
       "      <td>time</td>\n",
       "      <td>years</td>\n",
       "    </tr>\n",
       "    <tr>\n",
       "      <th>5</th>\n",
       "      <td>age_group_id</td>\n",
       "      <td>Age Group ID</td>\n",
       "      <td>entity domain</td>\n",
       "      <td>years</td>\n",
       "    </tr>\n",
       "    <tr>\n",
       "      <th>6</th>\n",
       "      <td>age_group_name</td>\n",
       "      <td>Age Group Name</td>\n",
       "      <td>string</td>\n",
       "      <td>years</td>\n",
       "    </tr>\n",
       "    <tr>\n",
       "      <th>7</th>\n",
       "      <td>sex_id</td>\n",
       "      <td>Sex ID</td>\n",
       "      <td>entity domain</td>\n",
       "      <td>years</td>\n",
       "    </tr>\n",
       "    <tr>\n",
       "      <th>8</th>\n",
       "      <td>sex_name</td>\n",
       "      <td>Sex Name</td>\n",
       "      <td>string</td>\n",
       "      <td>years</td>\n",
       "    </tr>\n",
       "    <tr>\n",
       "      <th>10</th>\n",
       "      <td>unit</td>\n",
       "      <td>Unit</td>\n",
       "      <td>string</td>\n",
       "      <td>years</td>\n",
       "    </tr>\n",
       "  </tbody>\n",
       "</table>\n",
       "</div>"
      ],
      "text/plain": [
       "           concept                                               name  \\\n",
       "1      location_id                                        Location ID   \n",
       "2    location_code  Country ISO 3166-1 Alpha-3 Code or GBD Region ...   \n",
       "3    location_name                             Country or Region Name   \n",
       "4             year                                              Year    \n",
       "5     age_group_id                                       Age Group ID   \n",
       "6   age_group_name                                     Age Group Name   \n",
       "7           sex_id                                             Sex ID   \n",
       "8         sex_name                                           Sex Name   \n",
       "10            unit                                               Unit   \n",
       "\n",
       "             type   unit  \n",
       "1   entity domain  years  \n",
       "2          string  years  \n",
       "3          string  years  \n",
       "4            time  years  \n",
       "5   entity domain  years  \n",
       "6          string  years  \n",
       "7   entity domain  years  \n",
       "8          string  years  \n",
       "10         string  years  "
      ]
     },
     "execution_count": 77,
     "metadata": {},
     "output_type": "execute_result"
    }
   ],
   "source": [
    "dis_concept"
   ]
  },
  {
   "cell_type": "code",
   "execution_count": 78,
   "metadata": {
    "collapsed": true
   },
   "outputs": [],
   "source": [
    "dis_concept.to_csv('./output/ddf--concept--discrete.csv', index=False)"
   ]
  },
  {
   "cell_type": "code",
   "execution_count": null,
   "metadata": {
    "collapsed": true
   },
   "outputs": [],
   "source": []
  },
  {
   "cell_type": "code",
   "execution_count": 30,
   "metadata": {
    "collapsed": true
   },
   "outputs": [],
   "source": [
    "cont_concept = codebook.ix[:1].T.ix[11:]"
   ]
  },
  {
   "cell_type": "code",
   "execution_count": 31,
   "metadata": {
    "collapsed": false
   },
   "outputs": [],
   "source": [
    "cont_concept.columns = ['concept', 'name']"
   ]
  },
  {
   "cell_type": "code",
   "execution_count": 32,
   "metadata": {
    "collapsed": true
   },
   "outputs": [],
   "source": [
    "cont_concept['type'] = 'measure'"
   ]
  },
  {
   "cell_type": "code",
   "execution_count": 34,
   "metadata": {
    "collapsed": false
   },
   "outputs": [
    {
     "data": {
      "text/html": [
       "<div>\n",
       "<table border=\"1\" class=\"dataframe\">\n",
       "  <thead>\n",
       "    <tr style=\"text-align: right;\">\n",
       "      <th></th>\n",
       "      <th>concept</th>\n",
       "      <th>name</th>\n",
       "      <th>type</th>\n",
       "    </tr>\n",
       "  </thead>\n",
       "  <tbody>\n",
       "    <tr>\n",
       "      <th>11</th>\n",
       "      <td>mean</td>\n",
       "      <td>Mean</td>\n",
       "      <td>measure</td>\n",
       "    </tr>\n",
       "    <tr>\n",
       "      <th>12</th>\n",
       "      <td>upper</td>\n",
       "      <td>95% Uncertainty Interval - Upper Bound</td>\n",
       "      <td>measure</td>\n",
       "    </tr>\n",
       "    <tr>\n",
       "      <th>13</th>\n",
       "      <td>lower</td>\n",
       "      <td>95% Uncertainty Interval - Lower Bound</td>\n",
       "      <td>measure</td>\n",
       "    </tr>\n",
       "  </tbody>\n",
       "</table>\n",
       "</div>"
      ],
      "text/plain": [
       "   concept                                    name     type\n",
       "11    mean                                    Mean  measure\n",
       "12   upper  95% Uncertainty Interval - Upper Bound  measure\n",
       "13   lower  95% Uncertainty Interval - Lower Bound  measure"
      ]
     },
     "execution_count": 34,
     "metadata": {},
     "output_type": "execute_result"
    }
   ],
   "source": [
    "cont_concept"
   ]
  },
  {
   "cell_type": "code",
   "execution_count": 35,
   "metadata": {
    "collapsed": true
   },
   "outputs": [],
   "source": [
    "cont_concept.to_csv('./output/ddf--concept--continuous.csv', index=False)"
   ]
  },
  {
   "cell_type": "code",
   "execution_count": null,
   "metadata": {
    "collapsed": true
   },
   "outputs": [],
   "source": []
  },
  {
   "cell_type": "code",
   "execution_count": null,
   "metadata": {
    "collapsed": true
   },
   "outputs": [],
   "source": []
  },
  {
   "cell_type": "markdown",
   "metadata": {},
   "source": [
    "# Entities"
   ]
  },
  {
   "cell_type": "code",
   "execution_count": 57,
   "metadata": {
    "collapsed": true
   },
   "outputs": [],
   "source": [
    "ent_country = codebook.ix[:, :3]"
   ]
  },
  {
   "cell_type": "code",
   "execution_count": 58,
   "metadata": {
    "collapsed": false
   },
   "outputs": [],
   "source": [
    "ent_country.columns = ent_country.ix[0]\n",
    "ent_country = ent_country.drop([0, 1])"
   ]
  },
  {
   "cell_type": "code",
   "execution_count": 59,
   "metadata": {
    "collapsed": false,
    "scrolled": true
   },
   "outputs": [
    {
     "data": {
      "text/html": [
       "<div>\n",
       "<table border=\"1\" class=\"dataframe\">\n",
       "  <thead>\n",
       "    <tr style=\"text-align: right;\">\n",
       "      <th></th>\n",
       "      <th>location_id</th>\n",
       "      <th>location_code</th>\n",
       "      <th>location_name</th>\n",
       "    </tr>\n",
       "  </thead>\n",
       "  <tbody>\n",
       "    <tr>\n",
       "      <th>2</th>\n",
       "      <td>1</td>\n",
       "      <td>G</td>\n",
       "      <td>Global</td>\n",
       "    </tr>\n",
       "    <tr>\n",
       "      <th>3</th>\n",
       "      <td>2</td>\n",
       "      <td>D0</td>\n",
       "      <td>Developing</td>\n",
       "    </tr>\n",
       "    <tr>\n",
       "      <th>4</th>\n",
       "      <td>3</td>\n",
       "      <td>D1</td>\n",
       "      <td>Developed</td>\n",
       "    </tr>\n",
       "    <tr>\n",
       "      <th>5</th>\n",
       "      <td>4</td>\n",
       "      <td>S6</td>\n",
       "      <td>Southeast Asia, East Asia, and Oceania</td>\n",
       "    </tr>\n",
       "    <tr>\n",
       "      <th>6</th>\n",
       "      <td>5</td>\n",
       "      <td>R3</td>\n",
       "      <td>East Asia</td>\n",
       "    </tr>\n",
       "    <tr>\n",
       "      <th>7</th>\n",
       "      <td>6</td>\n",
       "      <td>CHN</td>\n",
       "      <td>China</td>\n",
       "    </tr>\n",
       "    <tr>\n",
       "      <th>8</th>\n",
       "      <td>7</td>\n",
       "      <td>PRK</td>\n",
       "      <td>North Korea</td>\n",
       "    </tr>\n",
       "    <tr>\n",
       "      <th>9</th>\n",
       "      <td>8</td>\n",
       "      <td>TWN</td>\n",
       "      <td>Taiwan</td>\n",
       "    </tr>\n",
       "    <tr>\n",
       "      <th>10</th>\n",
       "      <td>9</td>\n",
       "      <td>R5</td>\n",
       "      <td>Southeast Asia</td>\n",
       "    </tr>\n",
       "    <tr>\n",
       "      <th>11</th>\n",
       "      <td>10</td>\n",
       "      <td>KHM</td>\n",
       "      <td>Cambodia</td>\n",
       "    </tr>\n",
       "    <tr>\n",
       "      <th>12</th>\n",
       "      <td>11</td>\n",
       "      <td>IDN</td>\n",
       "      <td>Indonesia</td>\n",
       "    </tr>\n",
       "    <tr>\n",
       "      <th>13</th>\n",
       "      <td>12</td>\n",
       "      <td>LAO</td>\n",
       "      <td>Laos</td>\n",
       "    </tr>\n",
       "    <tr>\n",
       "      <th>14</th>\n",
       "      <td>13</td>\n",
       "      <td>MYS</td>\n",
       "      <td>Malaysia</td>\n",
       "    </tr>\n",
       "    <tr>\n",
       "      <th>15</th>\n",
       "      <td>14</td>\n",
       "      <td>MDV</td>\n",
       "      <td>Maldives</td>\n",
       "    </tr>\n",
       "    <tr>\n",
       "      <th>16</th>\n",
       "      <td>15</td>\n",
       "      <td>MMR</td>\n",
       "      <td>Myanmar</td>\n",
       "    </tr>\n",
       "    <tr>\n",
       "      <th>17</th>\n",
       "      <td>16</td>\n",
       "      <td>PHL</td>\n",
       "      <td>Philippines</td>\n",
       "    </tr>\n",
       "    <tr>\n",
       "      <th>18</th>\n",
       "      <td>17</td>\n",
       "      <td>LKA</td>\n",
       "      <td>Sri Lanka</td>\n",
       "    </tr>\n",
       "    <tr>\n",
       "      <th>19</th>\n",
       "      <td>18</td>\n",
       "      <td>THA</td>\n",
       "      <td>Thailand</td>\n",
       "    </tr>\n",
       "    <tr>\n",
       "      <th>20</th>\n",
       "      <td>19</td>\n",
       "      <td>TLS</td>\n",
       "      <td>Timor-Leste</td>\n",
       "    </tr>\n",
       "    <tr>\n",
       "      <th>21</th>\n",
       "      <td>20</td>\n",
       "      <td>VNM</td>\n",
       "      <td>Vietnam</td>\n",
       "    </tr>\n",
       "    <tr>\n",
       "      <th>22</th>\n",
       "      <td>21</td>\n",
       "      <td>R17</td>\n",
       "      <td>Oceania</td>\n",
       "    </tr>\n",
       "    <tr>\n",
       "      <th>23</th>\n",
       "      <td>22</td>\n",
       "      <td>FJI</td>\n",
       "      <td>Fiji</td>\n",
       "    </tr>\n",
       "    <tr>\n",
       "      <th>24</th>\n",
       "      <td>23</td>\n",
       "      <td>KIR</td>\n",
       "      <td>Kiribati</td>\n",
       "    </tr>\n",
       "    <tr>\n",
       "      <th>25</th>\n",
       "      <td>24</td>\n",
       "      <td>MHL</td>\n",
       "      <td>Marshall Islands</td>\n",
       "    </tr>\n",
       "    <tr>\n",
       "      <th>26</th>\n",
       "      <td>25</td>\n",
       "      <td>FSM</td>\n",
       "      <td>Federated States of Micronesia</td>\n",
       "    </tr>\n",
       "    <tr>\n",
       "      <th>27</th>\n",
       "      <td>26</td>\n",
       "      <td>PNG</td>\n",
       "      <td>Papua New Guinea</td>\n",
       "    </tr>\n",
       "    <tr>\n",
       "      <th>28</th>\n",
       "      <td>27</td>\n",
       "      <td>WSM</td>\n",
       "      <td>Samoa</td>\n",
       "    </tr>\n",
       "    <tr>\n",
       "      <th>29</th>\n",
       "      <td>28</td>\n",
       "      <td>SLB</td>\n",
       "      <td>Solomon Islands</td>\n",
       "    </tr>\n",
       "    <tr>\n",
       "      <th>30</th>\n",
       "      <td>29</td>\n",
       "      <td>TON</td>\n",
       "      <td>Tonga</td>\n",
       "    </tr>\n",
       "    <tr>\n",
       "      <th>31</th>\n",
       "      <td>30</td>\n",
       "      <td>VUT</td>\n",
       "      <td>Vanuatu</td>\n",
       "    </tr>\n",
       "    <tr>\n",
       "      <th>...</th>\n",
       "      <td>...</td>\n",
       "      <td>...</td>\n",
       "      <td>...</td>\n",
       "    </tr>\n",
       "    <tr>\n",
       "      <th>191</th>\n",
       "      <td>191</td>\n",
       "      <td>ZMB</td>\n",
       "      <td>Botswana</td>\n",
       "    </tr>\n",
       "    <tr>\n",
       "      <th>192</th>\n",
       "      <td>192</td>\n",
       "      <td>R20</td>\n",
       "      <td>Lesotho</td>\n",
       "    </tr>\n",
       "    <tr>\n",
       "      <th>193</th>\n",
       "      <td>193</td>\n",
       "      <td>BWA</td>\n",
       "      <td>Namibia</td>\n",
       "    </tr>\n",
       "    <tr>\n",
       "      <th>194</th>\n",
       "      <td>194</td>\n",
       "      <td>LSO</td>\n",
       "      <td>South Africa</td>\n",
       "    </tr>\n",
       "    <tr>\n",
       "      <th>195</th>\n",
       "      <td>195</td>\n",
       "      <td>NAM</td>\n",
       "      <td>Swaziland</td>\n",
       "    </tr>\n",
       "    <tr>\n",
       "      <th>196</th>\n",
       "      <td>196</td>\n",
       "      <td>ZAF</td>\n",
       "      <td>Zimbabwe</td>\n",
       "    </tr>\n",
       "    <tr>\n",
       "      <th>197</th>\n",
       "      <td>197</td>\n",
       "      <td>SWZ</td>\n",
       "      <td>Western Sub-Saharan Africa</td>\n",
       "    </tr>\n",
       "    <tr>\n",
       "      <th>198</th>\n",
       "      <td>198</td>\n",
       "      <td>ZWE</td>\n",
       "      <td>Benin</td>\n",
       "    </tr>\n",
       "    <tr>\n",
       "      <th>199</th>\n",
       "      <td>199</td>\n",
       "      <td>R21</td>\n",
       "      <td>Burkina Faso</td>\n",
       "    </tr>\n",
       "    <tr>\n",
       "      <th>200</th>\n",
       "      <td>200</td>\n",
       "      <td>BEN</td>\n",
       "      <td>Cameroon</td>\n",
       "    </tr>\n",
       "    <tr>\n",
       "      <th>201</th>\n",
       "      <td>201</td>\n",
       "      <td>BFA</td>\n",
       "      <td>Cape Verde</td>\n",
       "    </tr>\n",
       "    <tr>\n",
       "      <th>202</th>\n",
       "      <td>202</td>\n",
       "      <td>CMR</td>\n",
       "      <td>Chad</td>\n",
       "    </tr>\n",
       "    <tr>\n",
       "      <th>203</th>\n",
       "      <td>203</td>\n",
       "      <td>CPV</td>\n",
       "      <td>Cote d'Ivoire</td>\n",
       "    </tr>\n",
       "    <tr>\n",
       "      <th>204</th>\n",
       "      <td>204</td>\n",
       "      <td>TCD</td>\n",
       "      <td>The Gambia</td>\n",
       "    </tr>\n",
       "    <tr>\n",
       "      <th>205</th>\n",
       "      <td>205</td>\n",
       "      <td>CIV</td>\n",
       "      <td>Ghana</td>\n",
       "    </tr>\n",
       "    <tr>\n",
       "      <th>206</th>\n",
       "      <td>206</td>\n",
       "      <td>GMB</td>\n",
       "      <td>Guinea</td>\n",
       "    </tr>\n",
       "    <tr>\n",
       "      <th>207</th>\n",
       "      <td>207</td>\n",
       "      <td>GHA</td>\n",
       "      <td>Guinea-Bissau</td>\n",
       "    </tr>\n",
       "    <tr>\n",
       "      <th>208</th>\n",
       "      <td>208</td>\n",
       "      <td>GIN</td>\n",
       "      <td>Liberia</td>\n",
       "    </tr>\n",
       "    <tr>\n",
       "      <th>209</th>\n",
       "      <td>209</td>\n",
       "      <td>GNB</td>\n",
       "      <td>Mali</td>\n",
       "    </tr>\n",
       "    <tr>\n",
       "      <th>210</th>\n",
       "      <td>210</td>\n",
       "      <td>LBR</td>\n",
       "      <td>Mauritania</td>\n",
       "    </tr>\n",
       "    <tr>\n",
       "      <th>211</th>\n",
       "      <td>211</td>\n",
       "      <td>MLI</td>\n",
       "      <td>Niger</td>\n",
       "    </tr>\n",
       "    <tr>\n",
       "      <th>212</th>\n",
       "      <td>212</td>\n",
       "      <td>MRT</td>\n",
       "      <td>Nigeria</td>\n",
       "    </tr>\n",
       "    <tr>\n",
       "      <th>213</th>\n",
       "      <td>213</td>\n",
       "      <td>NER</td>\n",
       "      <td>Sao Tome and Principe</td>\n",
       "    </tr>\n",
       "    <tr>\n",
       "      <th>214</th>\n",
       "      <td>214</td>\n",
       "      <td>NGA</td>\n",
       "      <td>Senegal</td>\n",
       "    </tr>\n",
       "    <tr>\n",
       "      <th>215</th>\n",
       "      <td>215</td>\n",
       "      <td>STP</td>\n",
       "      <td>Sierra Leone</td>\n",
       "    </tr>\n",
       "    <tr>\n",
       "      <th>216</th>\n",
       "      <td>216</td>\n",
       "      <td>SEN</td>\n",
       "      <td>Togo</td>\n",
       "    </tr>\n",
       "    <tr>\n",
       "      <th>217</th>\n",
       "      <td>217</td>\n",
       "      <td>SLE</td>\n",
       "      <td>South Sudan</td>\n",
       "    </tr>\n",
       "    <tr>\n",
       "      <th>218</th>\n",
       "      <td>218</td>\n",
       "      <td>TGO</td>\n",
       "      <td>Sudan</td>\n",
       "    </tr>\n",
       "    <tr>\n",
       "      <th>219</th>\n",
       "      <td>435</td>\n",
       "      <td>SSD</td>\n",
       "      <td>NaN</td>\n",
       "    </tr>\n",
       "    <tr>\n",
       "      <th>220</th>\n",
       "      <td>522</td>\n",
       "      <td>SDN</td>\n",
       "      <td>NaN</td>\n",
       "    </tr>\n",
       "  </tbody>\n",
       "</table>\n",
       "<p>219 rows × 3 columns</p>\n",
       "</div>"
      ],
      "text/plain": [
       "0   location_id location_code                           location_name\n",
       "2             1             G                                  Global\n",
       "3             2            D0                              Developing\n",
       "4             3            D1                               Developed\n",
       "5             4            S6  Southeast Asia, East Asia, and Oceania\n",
       "6             5            R3                               East Asia\n",
       "7             6           CHN                                   China\n",
       "8             7           PRK                             North Korea\n",
       "9             8           TWN                                  Taiwan\n",
       "10            9            R5                          Southeast Asia\n",
       "11           10           KHM                                Cambodia\n",
       "12           11           IDN                               Indonesia\n",
       "13           12           LAO                                    Laos\n",
       "14           13           MYS                                Malaysia\n",
       "15           14           MDV                                Maldives\n",
       "16           15           MMR                                 Myanmar\n",
       "17           16           PHL                             Philippines\n",
       "18           17           LKA                               Sri Lanka\n",
       "19           18           THA                                Thailand\n",
       "20           19           TLS                             Timor-Leste\n",
       "21           20           VNM                                 Vietnam\n",
       "22           21           R17                                 Oceania\n",
       "23           22           FJI                                    Fiji\n",
       "24           23           KIR                                Kiribati\n",
       "25           24           MHL                        Marshall Islands\n",
       "26           25           FSM          Federated States of Micronesia\n",
       "27           26           PNG                        Papua New Guinea\n",
       "28           27           WSM                                   Samoa\n",
       "29           28           SLB                         Solomon Islands\n",
       "30           29           TON                                   Tonga\n",
       "31           30           VUT                                 Vanuatu\n",
       "..          ...           ...                                     ...\n",
       "191         191           ZMB                                Botswana\n",
       "192         192           R20                                 Lesotho\n",
       "193         193           BWA                                 Namibia\n",
       "194         194           LSO                            South Africa\n",
       "195         195           NAM                               Swaziland\n",
       "196         196           ZAF                                Zimbabwe\n",
       "197         197           SWZ              Western Sub-Saharan Africa\n",
       "198         198           ZWE                                   Benin\n",
       "199         199           R21                            Burkina Faso\n",
       "200         200           BEN                                Cameroon\n",
       "201         201           BFA                              Cape Verde\n",
       "202         202           CMR                                    Chad\n",
       "203         203           CPV                           Cote d'Ivoire\n",
       "204         204           TCD                              The Gambia\n",
       "205         205           CIV                                   Ghana\n",
       "206         206           GMB                                  Guinea\n",
       "207         207           GHA                           Guinea-Bissau\n",
       "208         208           GIN                                 Liberia\n",
       "209         209           GNB                                    Mali\n",
       "210         210           LBR                              Mauritania\n",
       "211         211           MLI                                   Niger\n",
       "212         212           MRT                                 Nigeria\n",
       "213         213           NER                   Sao Tome and Principe\n",
       "214         214           NGA                                 Senegal\n",
       "215         215           STP                            Sierra Leone\n",
       "216         216           SEN                                    Togo\n",
       "217         217           SLE                             South Sudan\n",
       "218         218           TGO                                   Sudan\n",
       "219         435           SSD                                     NaN\n",
       "220         522           SDN                                     NaN\n",
       "\n",
       "[219 rows x 3 columns]"
      ]
     },
     "execution_count": 59,
     "metadata": {},
     "output_type": "execute_result"
    }
   ],
   "source": [
    "ent_country"
   ]
  },
  {
   "cell_type": "code",
   "execution_count": 60,
   "metadata": {
    "collapsed": true
   },
   "outputs": [],
   "source": [
    "ent_country.to_csv('./output/ddf--entities--country.csv', index=False)"
   ]
  },
  {
   "cell_type": "code",
   "execution_count": null,
   "metadata": {
    "collapsed": true
   },
   "outputs": [],
   "source": []
  },
  {
   "cell_type": "code",
   "execution_count": null,
   "metadata": {
    "collapsed": true
   },
   "outputs": [],
   "source": []
  },
  {
   "cell_type": "code",
   "execution_count": 64,
   "metadata": {
    "collapsed": true
   },
   "outputs": [],
   "source": [
    "ent_age = codebook.ix[:, 5:6]"
   ]
  },
  {
   "cell_type": "code",
   "execution_count": 65,
   "metadata": {
    "collapsed": true
   },
   "outputs": [],
   "source": [
    "ent_age = ent_age.dropna(how='all')"
   ]
  },
  {
   "cell_type": "code",
   "execution_count": 67,
   "metadata": {
    "collapsed": true
   },
   "outputs": [],
   "source": [
    "ent_age.columns = ent_age.ix[0]\n",
    "ent_age.drop([0, 1], inplace=True)"
   ]
  },
  {
   "cell_type": "code",
   "execution_count": 68,
   "metadata": {
    "collapsed": false,
    "scrolled": true
   },
   "outputs": [
    {
     "data": {
      "text/html": [
       "<div>\n",
       "<table border=\"1\" class=\"dataframe\">\n",
       "  <thead>\n",
       "    <tr style=\"text-align: right;\">\n",
       "      <th></th>\n",
       "      <th>age_group_id</th>\n",
       "      <th>age_group_name</th>\n",
       "    </tr>\n",
       "  </thead>\n",
       "  <tbody>\n",
       "    <tr>\n",
       "      <th>2</th>\n",
       "      <td>28</td>\n",
       "      <td>&lt;1 year</td>\n",
       "    </tr>\n",
       "    <tr>\n",
       "      <th>3</th>\n",
       "      <td>5</td>\n",
       "      <td>1 to 4</td>\n",
       "    </tr>\n",
       "    <tr>\n",
       "      <th>4</th>\n",
       "      <td>6</td>\n",
       "      <td>5 to 9</td>\n",
       "    </tr>\n",
       "    <tr>\n",
       "      <th>5</th>\n",
       "      <td>7</td>\n",
       "      <td>10 to 14</td>\n",
       "    </tr>\n",
       "    <tr>\n",
       "      <th>6</th>\n",
       "      <td>8</td>\n",
       "      <td>15 to 19</td>\n",
       "    </tr>\n",
       "    <tr>\n",
       "      <th>7</th>\n",
       "      <td>9</td>\n",
       "      <td>20 to 24</td>\n",
       "    </tr>\n",
       "    <tr>\n",
       "      <th>8</th>\n",
       "      <td>10</td>\n",
       "      <td>25 to 29</td>\n",
       "    </tr>\n",
       "    <tr>\n",
       "      <th>9</th>\n",
       "      <td>11</td>\n",
       "      <td>30 to 34</td>\n",
       "    </tr>\n",
       "    <tr>\n",
       "      <th>10</th>\n",
       "      <td>12</td>\n",
       "      <td>35 to 39</td>\n",
       "    </tr>\n",
       "    <tr>\n",
       "      <th>11</th>\n",
       "      <td>13</td>\n",
       "      <td>40 to 44</td>\n",
       "    </tr>\n",
       "    <tr>\n",
       "      <th>12</th>\n",
       "      <td>14</td>\n",
       "      <td>45 to 49</td>\n",
       "    </tr>\n",
       "    <tr>\n",
       "      <th>13</th>\n",
       "      <td>15</td>\n",
       "      <td>50 to 54</td>\n",
       "    </tr>\n",
       "    <tr>\n",
       "      <th>14</th>\n",
       "      <td>16</td>\n",
       "      <td>55 to 59</td>\n",
       "    </tr>\n",
       "    <tr>\n",
       "      <th>15</th>\n",
       "      <td>17</td>\n",
       "      <td>60 to 64</td>\n",
       "    </tr>\n",
       "    <tr>\n",
       "      <th>16</th>\n",
       "      <td>18</td>\n",
       "      <td>65 to 69</td>\n",
       "    </tr>\n",
       "    <tr>\n",
       "      <th>17</th>\n",
       "      <td>19</td>\n",
       "      <td>70 to 74</td>\n",
       "    </tr>\n",
       "    <tr>\n",
       "      <th>18</th>\n",
       "      <td>20</td>\n",
       "      <td>75 to 79</td>\n",
       "    </tr>\n",
       "    <tr>\n",
       "      <th>19</th>\n",
       "      <td>30</td>\n",
       "      <td>80 to 84</td>\n",
       "    </tr>\n",
       "    <tr>\n",
       "      <th>20</th>\n",
       "      <td>31</td>\n",
       "      <td>85 to 90</td>\n",
       "    </tr>\n",
       "    <tr>\n",
       "      <th>21</th>\n",
       "      <td>32</td>\n",
       "      <td>90 to 94</td>\n",
       "    </tr>\n",
       "    <tr>\n",
       "      <th>22</th>\n",
       "      <td>33</td>\n",
       "      <td>95 to 99</td>\n",
       "    </tr>\n",
       "    <tr>\n",
       "      <th>23</th>\n",
       "      <td>44</td>\n",
       "      <td>100 to 104</td>\n",
       "    </tr>\n",
       "    <tr>\n",
       "      <th>24</th>\n",
       "      <td>45</td>\n",
       "      <td>105 to 109</td>\n",
       "    </tr>\n",
       "    <tr>\n",
       "      <th>25</th>\n",
       "      <td>46</td>\n",
       "      <td>110 to 114</td>\n",
       "    </tr>\n",
       "  </tbody>\n",
       "</table>\n",
       "</div>"
      ],
      "text/plain": [
       "0  age_group_id age_group_name\n",
       "2            28        <1 year\n",
       "3             5         1 to 4\n",
       "4             6         5 to 9\n",
       "5             7       10 to 14\n",
       "6             8       15 to 19\n",
       "7             9       20 to 24\n",
       "8            10       25 to 29\n",
       "9            11       30 to 34\n",
       "10           12       35 to 39\n",
       "11           13       40 to 44\n",
       "12           14       45 to 49\n",
       "13           15       50 to 54\n",
       "14           16       55 to 59\n",
       "15           17       60 to 64\n",
       "16           18       65 to 69\n",
       "17           19       70 to 74\n",
       "18           20       75 to 79\n",
       "19           30       80 to 84\n",
       "20           31       85 to 90\n",
       "21           32       90 to 94\n",
       "22           33       95 to 99\n",
       "23           44     100 to 104\n",
       "24           45     105 to 109\n",
       "25           46     110 to 114"
      ]
     },
     "execution_count": 68,
     "metadata": {},
     "output_type": "execute_result"
    }
   ],
   "source": [
    "ent_age"
   ]
  },
  {
   "cell_type": "code",
   "execution_count": 74,
   "metadata": {
    "collapsed": true
   },
   "outputs": [],
   "source": [
    "ent_age.to_csv('./output/ddf--entities--age.csv', index=False)"
   ]
  },
  {
   "cell_type": "code",
   "execution_count": null,
   "metadata": {
    "collapsed": true
   },
   "outputs": [],
   "source": []
  },
  {
   "cell_type": "code",
   "execution_count": 69,
   "metadata": {
    "collapsed": true
   },
   "outputs": [],
   "source": [
    "ent_sex = codebook.ix[:, 7:8]"
   ]
  },
  {
   "cell_type": "code",
   "execution_count": 71,
   "metadata": {
    "collapsed": true
   },
   "outputs": [],
   "source": [
    "ent_sex = ent_sex.dropna(how='all')\n",
    "ent_sex.columns = ent_sex.ix[0]\n",
    "ent_sex = ent_sex.drop([0, 1])"
   ]
  },
  {
   "cell_type": "code",
   "execution_count": null,
   "metadata": {
    "collapsed": true
   },
   "outputs": [],
   "source": []
  },
  {
   "cell_type": "code",
   "execution_count": 72,
   "metadata": {
    "collapsed": false
   },
   "outputs": [
    {
     "data": {
      "text/html": [
       "<div>\n",
       "<table border=\"1\" class=\"dataframe\">\n",
       "  <thead>\n",
       "    <tr style=\"text-align: right;\">\n",
       "      <th></th>\n",
       "      <th>sex_id</th>\n",
       "      <th>sex_name</th>\n",
       "    </tr>\n",
       "  </thead>\n",
       "  <tbody>\n",
       "    <tr>\n",
       "      <th>2</th>\n",
       "      <td>1</td>\n",
       "      <td>Males</td>\n",
       "    </tr>\n",
       "    <tr>\n",
       "      <th>3</th>\n",
       "      <td>2</td>\n",
       "      <td>Females</td>\n",
       "    </tr>\n",
       "    <tr>\n",
       "      <th>4</th>\n",
       "      <td>3</td>\n",
       "      <td>Both sexes</td>\n",
       "    </tr>\n",
       "  </tbody>\n",
       "</table>\n",
       "</div>"
      ],
      "text/plain": [
       "0 sex_id    sex_name\n",
       "2      1       Males\n",
       "3      2     Females\n",
       "4      3  Both sexes"
      ]
     },
     "execution_count": 72,
     "metadata": {},
     "output_type": "execute_result"
    }
   ],
   "source": [
    "ent_sex"
   ]
  },
  {
   "cell_type": "code",
   "execution_count": 73,
   "metadata": {
    "collapsed": true
   },
   "outputs": [],
   "source": [
    "ent_sex.to_csv('./output/ddf--entities--sex.csv', index=False)"
   ]
  },
  {
   "cell_type": "code",
   "execution_count": null,
   "metadata": {
    "collapsed": true
   },
   "outputs": [],
   "source": []
  },
  {
   "cell_type": "code",
   "execution_count": null,
   "metadata": {
    "collapsed": true
   },
   "outputs": [],
   "source": []
  },
  {
   "cell_type": "markdown",
   "metadata": {},
   "source": [
    "# Datapoints"
   ]
  },
  {
   "cell_type": "code",
   "execution_count": 85,
   "metadata": {
    "collapsed": true
   },
   "outputs": [],
   "source": [
    "mean = data.ix[:, [0, 3, 4, 6, 10]]\n",
    "upper = data.ix[:, [0, 3, 4, 6, 11]]\n",
    "lower = data.ix[:, [0, 3, 4, 6, 12]]"
   ]
  },
  {
   "cell_type": "code",
   "execution_count": 86,
   "metadata": {
    "collapsed": false
   },
   "outputs": [],
   "source": [
    "mean.to_csv('./output/ddf--datapoints--mean--by--location_id--age_group_id--sex_id--year.csv', index=False)"
   ]
  },
  {
   "cell_type": "code",
   "execution_count": 87,
   "metadata": {
    "collapsed": true
   },
   "outputs": [],
   "source": [
    "upper.to_csv('./output/ddf--datapoints--upper--by--location_id--age_group_id--sex_id--year.csv', index=False)"
   ]
  },
  {
   "cell_type": "code",
   "execution_count": 88,
   "metadata": {
    "collapsed": true
   },
   "outputs": [],
   "source": [
    "lower.to_csv('./output/ddf--datapoints--lower--by--location_id--age_group_id--sex_id--year.csv', index=False)"
   ]
  },
  {
   "cell_type": "code",
   "execution_count": null,
   "metadata": {
    "collapsed": true
   },
   "outputs": [],
   "source": []
  },
  {
   "cell_type": "code",
   "execution_count": null,
   "metadata": {
    "collapsed": true
   },
   "outputs": [],
   "source": []
  },
  {
   "cell_type": "code",
   "execution_count": null,
   "metadata": {
    "collapsed": true
   },
   "outputs": [],
   "source": []
  },
  {
   "cell_type": "code",
   "execution_count": null,
   "metadata": {
    "collapsed": true
   },
   "outputs": [],
   "source": []
  },
  {
   "cell_type": "code",
   "execution_count": null,
   "metadata": {
    "collapsed": true
   },
   "outputs": [],
   "source": []
  },
  {
   "cell_type": "code",
   "execution_count": 20,
   "metadata": {
    "collapsed": false
   },
   "outputs": [
    {
     "data": {
      "text/plain": [
       "[{'data': 'age_group',\n",
       "  'path': '/Users/semio/src/work/Gapminder/ddf--ihme-lex/output/ddf--entities--age_group.csv',\n",
       "  'type': 'Entity header is not correct'},\n",
       " {'data': 'age_group_name',\n",
       "  'path': '/Users/semio/src/work/Gapminder/ddf--ihme-lex/output/ddf--entities--age_group.csv',\n",
       "  'type': 'Entity header is not correct'},\n",
       " {'data': 'name',\n",
       "  'path': '/Users/semio/src/work/Gapminder/ddf--ihme-lex/output/ddf--entities--age_group.csv',\n",
       "  'type': 'Entity header is not correct'},\n",
       " {'data': 'location',\n",
       "  'path': '/Users/semio/src/work/Gapminder/ddf--ihme-lex/output/ddf--entities--location.csv',\n",
       "  'type': 'Entity header is not correct'},\n",
       " {'data': 'location_code',\n",
       "  'path': '/Users/semio/src/work/Gapminder/ddf--ihme-lex/output/ddf--entities--location.csv',\n",
       "  'type': 'Entity header is not correct'},\n",
       " {'data': 'location_name',\n",
       "  'path': '/Users/semio/src/work/Gapminder/ddf--ihme-lex/output/ddf--entities--location.csv',\n",
       "  'type': 'Entity header is not correct'},\n",
       " {'data': 'name',\n",
       "  'path': '/Users/semio/src/work/Gapminder/ddf--ihme-lex/output/ddf--entities--location.csv',\n",
       "  'type': 'Entity header is not correct'},\n",
       " {'data': 'sex',\n",
       "  'path': '/Users/semio/src/work/Gapminder/ddf--ihme-lex/output/ddf--entities--sex.csv',\n",
       "  'type': 'Entity header is not correct'},\n",
       " {'data': 'sex_name',\n",
       "  'path': '/Users/semio/src/work/Gapminder/ddf--ihme-lex/output/ddf--entities--sex.csv',\n",
       "  'type': 'Entity header is not correct'},\n",
       " {'data': 'name',\n",
       "  'path': '/Users/semio/src/work/Gapminder/ddf--ihme-lex/output/ddf--entities--sex.csv',\n",
       "  'type': 'Entity header is not correct'},\n",
       " {'data': '../output',\n",
       "  'path': '../output',\n",
       "  'type': 'Index is not found',\n",
       "  'warning': 'true'}]"
      ]
     },
     "execution_count": 20,
     "metadata": {},
     "output_type": "execute_result"
    }
   ],
   "source": [
    "[{\"type\":\"Entity header is not correct\",\"path\":\"/Users/semio/src/work/Gapminder/ddf--ihme-lex/output/ddf--entities--age_group.csv\",\"data\":\"age_group\"},{\"type\":\"Entity header is not correct\",\"path\":\"/Users/semio/src/work/Gapminder/ddf--ihme-lex/output/ddf--entities--age_group.csv\",\"data\":\"age_group_name\"},{\"type\":\"Entity header is not correct\",\"path\":\"/Users/semio/src/work/Gapminder/ddf--ihme-lex/output/ddf--entities--age_group.csv\",\"data\":\"name\"},{\"type\":\"Entity header is not correct\",\"path\":\"/Users/semio/src/work/Gapminder/ddf--ihme-lex/output/ddf--entities--location.csv\",\"data\":\"location\"},{\"type\":\"Entity header is not correct\",\"path\":\"/Users/semio/src/work/Gapminder/ddf--ihme-lex/output/ddf--entities--location.csv\",\"data\":\"location_code\"},{\"type\":\"Entity header is not correct\",\"path\":\"/Users/semio/src/work/Gapminder/ddf--ihme-lex/output/ddf--entities--location.csv\",\"data\":\"location_name\"},{\"type\":\"Entity header is not correct\",\"path\":\"/Users/semio/src/work/Gapminder/ddf--ihme-lex/output/ddf--entities--location.csv\",\"data\":\"name\"},{\"type\":\"Entity header is not correct\",\"path\":\"/Users/semio/src/work/Gapminder/ddf--ihme-lex/output/ddf--entities--sex.csv\",\"data\":\"sex\"},{\"type\":\"Entity header is not correct\",\"path\":\"/Users/semio/src/work/Gapminder/ddf--ihme-lex/output/ddf--entities--sex.csv\",\"data\":\"sex_name\"},{\"type\":\"Entity header is not correct\",\"path\":\"/Users/semio/src/work/Gapminder/ddf--ihme-lex/output/ddf--entities--sex.csv\",\"data\":\"name\"},{\"type\":\"Index is not found\",\"path\":\"../output\",\"data\":\"../output\",\"warning\":\"true\"}]"
   ]
  },
  {
   "cell_type": "code",
   "execution_count": 18,
   "metadata": {
    "collapsed": false
   },
   "outputs": [
    {
     "data": {
      "text/html": [
       "<div>\n",
       "<table border=\"1\" class=\"dataframe\">\n",
       "  <thead>\n",
       "    <tr style=\"text-align: right;\">\n",
       "      <th></th>\n",
       "      <th>age</th>\n",
       "      <th>age_group_name</th>\n",
       "    </tr>\n",
       "  </thead>\n",
       "  <tbody>\n",
       "    <tr>\n",
       "      <th>0</th>\n",
       "      <td>28</td>\n",
       "      <td>&lt;1 year</td>\n",
       "    </tr>\n",
       "    <tr>\n",
       "      <th>1</th>\n",
       "      <td>5</td>\n",
       "      <td>1 to 4</td>\n",
       "    </tr>\n",
       "    <tr>\n",
       "      <th>2</th>\n",
       "      <td>6</td>\n",
       "      <td>5 to 9</td>\n",
       "    </tr>\n",
       "    <tr>\n",
       "      <th>3</th>\n",
       "      <td>7</td>\n",
       "      <td>10 to 14</td>\n",
       "    </tr>\n",
       "    <tr>\n",
       "      <th>4</th>\n",
       "      <td>8</td>\n",
       "      <td>15 to 19</td>\n",
       "    </tr>\n",
       "    <tr>\n",
       "      <th>5</th>\n",
       "      <td>9</td>\n",
       "      <td>20 to 24</td>\n",
       "    </tr>\n",
       "    <tr>\n",
       "      <th>6</th>\n",
       "      <td>10</td>\n",
       "      <td>25 to 29</td>\n",
       "    </tr>\n",
       "    <tr>\n",
       "      <th>7</th>\n",
       "      <td>11</td>\n",
       "      <td>30 to 34</td>\n",
       "    </tr>\n",
       "    <tr>\n",
       "      <th>8</th>\n",
       "      <td>12</td>\n",
       "      <td>35 to 39</td>\n",
       "    </tr>\n",
       "    <tr>\n",
       "      <th>9</th>\n",
       "      <td>13</td>\n",
       "      <td>40 to 44</td>\n",
       "    </tr>\n",
       "    <tr>\n",
       "      <th>10</th>\n",
       "      <td>14</td>\n",
       "      <td>45 to 49</td>\n",
       "    </tr>\n",
       "    <tr>\n",
       "      <th>11</th>\n",
       "      <td>15</td>\n",
       "      <td>50 to 54</td>\n",
       "    </tr>\n",
       "    <tr>\n",
       "      <th>12</th>\n",
       "      <td>16</td>\n",
       "      <td>55 to 59</td>\n",
       "    </tr>\n",
       "    <tr>\n",
       "      <th>13</th>\n",
       "      <td>17</td>\n",
       "      <td>60 to 64</td>\n",
       "    </tr>\n",
       "    <tr>\n",
       "      <th>14</th>\n",
       "      <td>18</td>\n",
       "      <td>65 to 69</td>\n",
       "    </tr>\n",
       "    <tr>\n",
       "      <th>15</th>\n",
       "      <td>19</td>\n",
       "      <td>70 to 74</td>\n",
       "    </tr>\n",
       "    <tr>\n",
       "      <th>16</th>\n",
       "      <td>20</td>\n",
       "      <td>75 to 79</td>\n",
       "    </tr>\n",
       "    <tr>\n",
       "      <th>17</th>\n",
       "      <td>30</td>\n",
       "      <td>80 to 84</td>\n",
       "    </tr>\n",
       "    <tr>\n",
       "      <th>18</th>\n",
       "      <td>31</td>\n",
       "      <td>85 to 90</td>\n",
       "    </tr>\n",
       "    <tr>\n",
       "      <th>19</th>\n",
       "      <td>32</td>\n",
       "      <td>90 to 94</td>\n",
       "    </tr>\n",
       "    <tr>\n",
       "      <th>20</th>\n",
       "      <td>33</td>\n",
       "      <td>95 to 99</td>\n",
       "    </tr>\n",
       "    <tr>\n",
       "      <th>21</th>\n",
       "      <td>44</td>\n",
       "      <td>100 to 104</td>\n",
       "    </tr>\n",
       "    <tr>\n",
       "      <th>22</th>\n",
       "      <td>45</td>\n",
       "      <td>105 to 109</td>\n",
       "    </tr>\n",
       "    <tr>\n",
       "      <th>23</th>\n",
       "      <td>46</td>\n",
       "      <td>110 to 114</td>\n",
       "    </tr>\n",
       "  </tbody>\n",
       "</table>\n",
       "</div>"
      ],
      "text/plain": [
       "    age age_group_name\n",
       "0    28        <1 year\n",
       "1     5         1 to 4\n",
       "2     6         5 to 9\n",
       "3     7       10 to 14\n",
       "4     8       15 to 19\n",
       "5     9       20 to 24\n",
       "6    10       25 to 29\n",
       "7    11       30 to 34\n",
       "8    12       35 to 39\n",
       "9    13       40 to 44\n",
       "10   14       45 to 49\n",
       "11   15       50 to 54\n",
       "12   16       55 to 59\n",
       "13   17       60 to 64\n",
       "14   18       65 to 69\n",
       "15   19       70 to 74\n",
       "16   20       75 to 79\n",
       "17   30       80 to 84\n",
       "18   31       85 to 90\n",
       "19   32       90 to 94\n",
       "20   33       95 to 99\n",
       "21   44     100 to 104\n",
       "22   45     105 to 109\n",
       "23   46     110 to 114"
      ]
     },
     "execution_count": 18,
     "metadata": {},
     "output_type": "execute_result"
    }
   ],
   "source": [
    "pd.read_csv('/Users/semio/src/work/Gapminder/ddf--ihme-lex/output/ddf--entities--age_group.csv')"
   ]
  },
  {
   "cell_type": "code",
   "execution_count": null,
   "metadata": {
    "collapsed": true
   },
   "outputs": [],
   "source": []
  }
 ],
 "metadata": {
  "kernelspec": {
   "display_name": "Python 3",
   "language": "python",
   "name": "python3"
  },
  "language_info": {
   "codemirror_mode": {
    "name": "ipython",
    "version": 3
   },
   "file_extension": ".py",
   "mimetype": "text/x-python",
   "name": "python",
   "nbconvert_exporter": "python",
   "pygments_lexer": "ipython3",
   "version": "3.5.1"
  }
 },
 "nbformat": 4,
 "nbformat_minor": 0
}
